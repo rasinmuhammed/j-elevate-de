{
 "cells": [
  {
   "cell_type": "markdown",
   "metadata": {},
   "source": [
    "Libraries"
   ]
  },
  {
   "cell_type": "code",
   "execution_count": 33,
   "metadata": {},
   "outputs": [],
   "source": [
    "import pandas as pd\n",
    "import ast \n",
    "import re\n",
    "import json  # Ensure you import the json module\n",
    "from bson import ObjectId"
   ]
  },
  {
   "cell_type": "markdown",
   "metadata": {},
   "source": [
    "Loading the data from raw to prep layer"
   ]
  },
  {
   "cell_type": "code",
   "execution_count": 34,
   "metadata": {},
   "outputs": [],
   "source": [
    "users_df = pd.read_csv('../../Raw/DATA_RAW/raw_users.csv')\n",
    "skills_df = pd.read_csv('../../Raw/DATA_RAW/raw_skills.csv')\n",
    "departments_df = pd.read_csv('../../Raw/DATA_RAW/raw_departments.csv')\n",
    "courses_df = pd.read_csv('../../Raw/DATA_RAW/raw_courses.csv')\n",
    "certifications_df = pd.read_csv('../../Raw/DATA_RAW/raw_certifications.csv')"
   ]
  },
  {
   "cell_type": "markdown",
   "metadata": {},
   "source": [
    "Joining the Users and Courses table\n"
   ]
  },
  {
   "cell_type": "code",
   "execution_count": 36,
   "metadata": {},
   "outputs": [
    {
     "name": "stdout",
     "output_type": "stream",
     "text": [
      "Error parsing course data: Expecting value: line 1 column 157 (char 156)\n",
      "Error parsing course data: Expecting value: line 1 column 157 (char 156)\n",
      "Error parsing course data: Expecting value: line 1 column 157 (char 156)\n",
      "Error parsing course data: Expecting value: line 1 column 157 (char 156)\n",
      "Error parsing course data: Expecting value: line 1 column 157 (char 156)\n",
      "                         _id firstName  lastName                       email  \\\n",
      "0   66fe457006024c48cc3ca43f    Hannah     Jones    hannah.jones@company.com   \n",
      "1   66fe457006024c48cc3ca440     Grace     Brown     grace.brown@company.com   \n",
      "2   66fe457006024c48cc3ca441     David   Johnson   david.johnson@company.com   \n",
      "3   66fe457006024c48cc3ca442    Hannah    Miller   hannah.miller@company.com   \n",
      "4   66fe457006024c48cc3ca443   Charlie    Taylor  charlie.taylor@company.com   \n",
      "5   66fe457006024c48cc3ca444      Jane     Jones      jane.jones@company.com   \n",
      "6   66fe457006024c48cc3ca445     Alice   Johnson   alice.johnson@company.com   \n",
      "7   66fe457006024c48cc3ca446      Jane    Taylor     jane.taylor@company.com   \n",
      "8   66fe457006024c48cc3ca447      Jane   Johnson    jane.johnson@company.com   \n",
      "9   66fe457006024c48cc3ca448     Grace    Miller    grace.miller@company.com   \n",
      "10  66fe457006024c48cc3ca449    Hannah    Thomas   hannah.thomas@company.com   \n",
      "11  66fe457006024c48cc3ca44a       Bob  Williams    bob.williams@company.com   \n",
      "12  66fe457006024c48cc3ca44b    Hannah    Taylor   hannah.taylor@company.com   \n",
      "13  66fe457006024c48cc3ca44c   Charlie    Wilson  charlie.wilson@company.com   \n",
      "14  66fe457006024c48cc3ca44d      John     Jones      john.jones@company.com   \n",
      "15  66fe457006024c48cc3ca44e       Bob     Davis       bob.davis@company.com   \n",
      "16  66fe457006024c48cc3ca44f     Grace  Williams  grace.williams@company.com   \n",
      "17  66fe457006024c48cc3ca450     Alice     Moore     alice.moore@company.com   \n",
      "\n",
      "            employeeID                department                  designation  \\\n",
      "0   EMP172793995132518  66fe298f1cf3c64a6475331d                ETL Developer   \n",
      "1   EMP172793995132590  66fe298f1cf3c64a64753329  Junior Full Stack Developer   \n",
      "2   EMP172793995132625  66fe298f1cf3c64a6475331d         Senior Data Engineer   \n",
      "3   EMP172793995132617  66fe298f1cf3c64a64753329         Full Stack Developer   \n",
      "4   EMP172793995132737  66fe298f1cf3c64a6475331d                Data Engineer   \n",
      "5   EMP172793995132750  66fe298f1cf3c64a6475331d         Senior Data Engineer   \n",
      "6   EMP172793995132776  66fe298f1cf3c64a6475332f      Junior Business Analyst   \n",
      "7   EMP172793995132834  66fe298f1cf3c64a64753329  Junior Full Stack Developer   \n",
      "8   EMP172793995132855  66fe298f1cf3c64a64753323    Machine Learning Engineer   \n",
      "9   EMP172793995132833  66fe298f1cf3c64a6475332f      Junior Business Analyst   \n",
      "10   EMP17279399513297  66fe298f1cf3c64a6475331d                Data Engineer   \n",
      "11  EMP172793995132927  66fe298f1cf3c64a6475331d                Data Engineer   \n",
      "12  EMP172793995132984  66fe298f1cf3c64a64753323        Junior Data Scientist   \n",
      "13  EMP172793995133039  66fe298f1cf3c64a6475332f        Management Consultant   \n",
      "14  EMP172793995133015  66fe298f1cf3c64a6475331d               Data Architect   \n",
      "15  EMP172793995133099  66fe298f1cf3c64a6475332f             Business Analyst   \n",
      "16  EMP172793995133113  66fe298f1cf3c64a64753329            Backend Developer   \n",
      "17  EMP172793995133120  66fe298f1cf3c64a64753323    Machine Learning Engineer   \n",
      "\n",
      "                                               skills  points  \n",
      "0   [' Python Programming', ' Natural Language Pro...     236  \n",
      "1                                                  []       0  \n",
      "2                                                  []       0  \n",
      "3                                                  []       0  \n",
      "4                                                  []       0  \n",
      "5                                                  []       0  \n",
      "6                                                  []       0  \n",
      "7                                                  []       0  \n",
      "8                                                  []       0  \n",
      "9   [' Business Analysis', ' Data Visualization', ...     255  \n",
      "10                                                 []       0  \n",
      "11                                                 []       0  \n",
      "12  [' Computer Programming', ' Data Analysis', ' ...     147  \n",
      "13                                                 []       0  \n",
      "14                                                 []       0  \n",
      "15                                                 []       0  \n",
      "16  [' Database Design', ' Databases', ' HTML and ...     149  \n",
      "17  [' Machine Learning', ' Feature Engineering', ...     324  \n"
     ]
    }
   ],
   "source": [
    "users_df = users_df.drop(columns=['courses'])"
   ]
  },
  {
   "cell_type": "code",
   "execution_count": 37,
   "metadata": {},
   "outputs": [
    {
     "ename": "KeyError",
     "evalue": "\"['skills_course'] not in index\"",
     "output_type": "error",
     "traceback": [
      "\u001b[1;31m---------------------------------------------------------------------------\u001b[0m",
      "\u001b[1;31mKeyError\u001b[0m                                  Traceback (most recent call last)",
      "Cell \u001b[1;32mIn[37], line 7\u001b[0m\n\u001b[0;32m      4\u001b[0m final_merged_df \u001b[38;5;241m=\u001b[39m merged_df\u001b[38;5;241m.\u001b[39mmerge(users_df, left_on\u001b[38;5;241m=\u001b[39m\u001b[38;5;124m'\u001b[39m\u001b[38;5;124muserId\u001b[39m\u001b[38;5;124m'\u001b[39m, right_on\u001b[38;5;241m=\u001b[39m\u001b[38;5;124m'\u001b[39m\u001b[38;5;124m_id\u001b[39m\u001b[38;5;124m'\u001b[39m, suffixes\u001b[38;5;241m=\u001b[39m(\u001b[38;5;124m'\u001b[39m\u001b[38;5;124m_merged\u001b[39m\u001b[38;5;124m'\u001b[39m, \u001b[38;5;124m'\u001b[39m\u001b[38;5;124m_user\u001b[39m\u001b[38;5;124m'\u001b[39m))\n\u001b[0;32m      6\u001b[0m \u001b[38;5;66;03m# Select relevant columns\u001b[39;00m\n\u001b[1;32m----> 7\u001b[0m final_result \u001b[38;5;241m=\u001b[39m \u001b[43mfinal_merged_df\u001b[49m\u001b[43m[\u001b[49m\u001b[43m[\u001b[49m\u001b[38;5;124;43m'\u001b[39;49m\u001b[38;5;124;43mfirstName\u001b[39;49m\u001b[38;5;124;43m'\u001b[39;49m\u001b[43m,\u001b[49m\u001b[43m \u001b[49m\u001b[38;5;124;43m'\u001b[39;49m\u001b[38;5;124;43mlastName\u001b[39;49m\u001b[38;5;124;43m'\u001b[39;49m\u001b[43m,\u001b[49m\u001b[43m \u001b[49m\u001b[38;5;124;43m'\u001b[39;49m\u001b[38;5;124;43memail\u001b[39;49m\u001b[38;5;124;43m'\u001b[39;49m\u001b[43m,\u001b[49m\u001b[43m \u001b[49m\u001b[38;5;124;43m'\u001b[39;49m\u001b[38;5;124;43mcourse\u001b[39;49m\u001b[38;5;124;43m'\u001b[39;49m\u001b[43m,\u001b[49m\u001b[43m \u001b[49m\u001b[38;5;124;43m'\u001b[39;49m\u001b[38;5;124;43mcompletionDate\u001b[39;49m\u001b[38;5;124;43m'\u001b[39;49m\u001b[43m,\u001b[49m\u001b[43m \u001b[49m\u001b[38;5;124;43m'\u001b[39;49m\u001b[38;5;124;43misApproved\u001b[39;49m\u001b[38;5;124;43m'\u001b[39;49m\u001b[43m,\u001b[49m\u001b[43m \u001b[49m\u001b[38;5;124;43m'\u001b[39;49m\u001b[38;5;124;43mskills_course\u001b[39;49m\u001b[38;5;124;43m'\u001b[39;49m\u001b[43m]\u001b[49m\u001b[43m]\u001b[49m\n",
      "File \u001b[1;32mc:\\Users\\MuhammedRasin\\Lib\\site-packages\\pandas\\core\\frame.py:4108\u001b[0m, in \u001b[0;36mDataFrame.__getitem__\u001b[1;34m(self, key)\u001b[0m\n\u001b[0;32m   4106\u001b[0m     \u001b[38;5;28;01mif\u001b[39;00m is_iterator(key):\n\u001b[0;32m   4107\u001b[0m         key \u001b[38;5;241m=\u001b[39m \u001b[38;5;28mlist\u001b[39m(key)\n\u001b[1;32m-> 4108\u001b[0m     indexer \u001b[38;5;241m=\u001b[39m \u001b[38;5;28;43mself\u001b[39;49m\u001b[38;5;241;43m.\u001b[39;49m\u001b[43mcolumns\u001b[49m\u001b[38;5;241;43m.\u001b[39;49m\u001b[43m_get_indexer_strict\u001b[49m\u001b[43m(\u001b[49m\u001b[43mkey\u001b[49m\u001b[43m,\u001b[49m\u001b[43m \u001b[49m\u001b[38;5;124;43m\"\u001b[39;49m\u001b[38;5;124;43mcolumns\u001b[39;49m\u001b[38;5;124;43m\"\u001b[39;49m\u001b[43m)\u001b[49m[\u001b[38;5;241m1\u001b[39m]\n\u001b[0;32m   4110\u001b[0m \u001b[38;5;66;03m# take() does not accept boolean indexers\u001b[39;00m\n\u001b[0;32m   4111\u001b[0m \u001b[38;5;28;01mif\u001b[39;00m \u001b[38;5;28mgetattr\u001b[39m(indexer, \u001b[38;5;124m\"\u001b[39m\u001b[38;5;124mdtype\u001b[39m\u001b[38;5;124m\"\u001b[39m, \u001b[38;5;28;01mNone\u001b[39;00m) \u001b[38;5;241m==\u001b[39m \u001b[38;5;28mbool\u001b[39m:\n",
      "File \u001b[1;32mc:\\Users\\MuhammedRasin\\Lib\\site-packages\\pandas\\core\\indexes\\base.py:6200\u001b[0m, in \u001b[0;36mIndex._get_indexer_strict\u001b[1;34m(self, key, axis_name)\u001b[0m\n\u001b[0;32m   6197\u001b[0m \u001b[38;5;28;01melse\u001b[39;00m:\n\u001b[0;32m   6198\u001b[0m     keyarr, indexer, new_indexer \u001b[38;5;241m=\u001b[39m \u001b[38;5;28mself\u001b[39m\u001b[38;5;241m.\u001b[39m_reindex_non_unique(keyarr)\n\u001b[1;32m-> 6200\u001b[0m \u001b[38;5;28;43mself\u001b[39;49m\u001b[38;5;241;43m.\u001b[39;49m\u001b[43m_raise_if_missing\u001b[49m\u001b[43m(\u001b[49m\u001b[43mkeyarr\u001b[49m\u001b[43m,\u001b[49m\u001b[43m \u001b[49m\u001b[43mindexer\u001b[49m\u001b[43m,\u001b[49m\u001b[43m \u001b[49m\u001b[43maxis_name\u001b[49m\u001b[43m)\u001b[49m\n\u001b[0;32m   6202\u001b[0m keyarr \u001b[38;5;241m=\u001b[39m \u001b[38;5;28mself\u001b[39m\u001b[38;5;241m.\u001b[39mtake(indexer)\n\u001b[0;32m   6203\u001b[0m \u001b[38;5;28;01mif\u001b[39;00m \u001b[38;5;28misinstance\u001b[39m(key, Index):\n\u001b[0;32m   6204\u001b[0m     \u001b[38;5;66;03m# GH 42790 - Preserve name from an Index\u001b[39;00m\n",
      "File \u001b[1;32mc:\\Users\\MuhammedRasin\\Lib\\site-packages\\pandas\\core\\indexes\\base.py:6252\u001b[0m, in \u001b[0;36mIndex._raise_if_missing\u001b[1;34m(self, key, indexer, axis_name)\u001b[0m\n\u001b[0;32m   6249\u001b[0m     \u001b[38;5;28;01mraise\u001b[39;00m \u001b[38;5;167;01mKeyError\u001b[39;00m(\u001b[38;5;124mf\u001b[39m\u001b[38;5;124m\"\u001b[39m\u001b[38;5;124mNone of [\u001b[39m\u001b[38;5;132;01m{\u001b[39;00mkey\u001b[38;5;132;01m}\u001b[39;00m\u001b[38;5;124m] are in the [\u001b[39m\u001b[38;5;132;01m{\u001b[39;00maxis_name\u001b[38;5;132;01m}\u001b[39;00m\u001b[38;5;124m]\u001b[39m\u001b[38;5;124m\"\u001b[39m)\n\u001b[0;32m   6251\u001b[0m not_found \u001b[38;5;241m=\u001b[39m \u001b[38;5;28mlist\u001b[39m(ensure_index(key)[missing_mask\u001b[38;5;241m.\u001b[39mnonzero()[\u001b[38;5;241m0\u001b[39m]]\u001b[38;5;241m.\u001b[39munique())\n\u001b[1;32m-> 6252\u001b[0m \u001b[38;5;28;01mraise\u001b[39;00m \u001b[38;5;167;01mKeyError\u001b[39;00m(\u001b[38;5;124mf\u001b[39m\u001b[38;5;124m\"\u001b[39m\u001b[38;5;132;01m{\u001b[39;00mnot_found\u001b[38;5;132;01m}\u001b[39;00m\u001b[38;5;124m not in index\u001b[39m\u001b[38;5;124m\"\u001b[39m)\n",
      "\u001b[1;31mKeyError\u001b[0m: \"['skills_course'] not in index\""
     ]
    }
   ],
   "source": [
    "merged_df = certifications_df.merge(courses_df, left_on='courseId', right_on='_id', suffixes=('_cert', '_course'))\n",
    "\n",
    "# Merge the result with Users\n",
    "final_merged_df = merged_df.merge(users_df, left_on='userId', right_on='_id', suffixes=('_merged', '_user'))\n",
    "\n",
    "# Select relevant columns\n",
    "final_result = final_merged_df[['firstName', 'lastName', 'email', 'course', 'completionDate', 'isApproved', 'skills_course']]"
   ]
  }
 ],
 "metadata": {
  "kernelspec": {
   "display_name": "Python 3",
   "language": "python",
   "name": "python3"
  },
  "language_info": {
   "codemirror_mode": {
    "name": "ipython",
    "version": 3
   },
   "file_extension": ".py",
   "mimetype": "text/x-python",
   "name": "python",
   "nbconvert_exporter": "python",
   "pygments_lexer": "ipython3",
   "version": "3.12.5"
  }
 },
 "nbformat": 4,
 "nbformat_minor": 2
}
