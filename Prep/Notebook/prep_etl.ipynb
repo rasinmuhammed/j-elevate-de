{
 "cells": [
  {
   "cell_type": "markdown",
   "metadata": {},
   "source": [
    "Libraries"
   ]
  },
  {
   "cell_type": "code",
   "execution_count": 33,
   "metadata": {},
   "outputs": [],
   "source": [
    "import pandas as pd\n",
    "import ast \n",
    "import re\n",
    "import json  # Ensure you import the json module\n",
    "from bson import ObjectId"
   ]
  },
  {
   "cell_type": "markdown",
   "metadata": {},
   "source": [
    "Loading the data from raw to prep layer"
   ]
  },
  {
   "cell_type": "code",
   "execution_count": 34,
   "metadata": {},
   "outputs": [],
   "source": [
    "users_df = pd.read_csv('../../Raw/DATA_RAW/raw_users.csv')\n",
    "skills_df = pd.read_csv('../../Raw/DATA_RAW/raw_skills.csv')\n",
    "departments_df = pd.read_csv('../../Raw/DATA_RAW/raw_departments.csv')\n",
    "courses_df = pd.read_csv('../../Raw/DATA_RAW/raw_courses.csv')\n",
    "certifications_df = pd.read_csv('../../Raw/DATA_RAW/raw_certifications.csv')"
   ]
  },
  {
   "cell_type": "markdown",
   "metadata": {},
   "source": [
    "Cleaning the users table\n"
   ]
  },
  {
   "cell_type": "code",
   "execution_count": 36,
   "metadata": {},
   "outputs": [
    {
     "name": "stdout",
     "output_type": "stream",
     "text": [
      "Error parsing course data: Expecting value: line 1 column 157 (char 156)\n",
      "Error parsing course data: Expecting value: line 1 column 157 (char 156)\n",
      "Error parsing course data: Expecting value: line 1 column 157 (char 156)\n",
      "Error parsing course data: Expecting value: line 1 column 157 (char 156)\n",
      "Error parsing course data: Expecting value: line 1 column 157 (char 156)\n",
      "                         _id firstName  lastName                       email  \\\n",
      "0   66fe457006024c48cc3ca43f    Hannah     Jones    hannah.jones@company.com   \n",
      "1   66fe457006024c48cc3ca440     Grace     Brown     grace.brown@company.com   \n",
      "2   66fe457006024c48cc3ca441     David   Johnson   david.johnson@company.com   \n",
      "3   66fe457006024c48cc3ca442    Hannah    Miller   hannah.miller@company.com   \n",
      "4   66fe457006024c48cc3ca443   Charlie    Taylor  charlie.taylor@company.com   \n",
      "5   66fe457006024c48cc3ca444      Jane     Jones      jane.jones@company.com   \n",
      "6   66fe457006024c48cc3ca445     Alice   Johnson   alice.johnson@company.com   \n",
      "7   66fe457006024c48cc3ca446      Jane    Taylor     jane.taylor@company.com   \n",
      "8   66fe457006024c48cc3ca447      Jane   Johnson    jane.johnson@company.com   \n",
      "9   66fe457006024c48cc3ca448     Grace    Miller    grace.miller@company.com   \n",
      "10  66fe457006024c48cc3ca449    Hannah    Thomas   hannah.thomas@company.com   \n",
      "11  66fe457006024c48cc3ca44a       Bob  Williams    bob.williams@company.com   \n",
      "12  66fe457006024c48cc3ca44b    Hannah    Taylor   hannah.taylor@company.com   \n",
      "13  66fe457006024c48cc3ca44c   Charlie    Wilson  charlie.wilson@company.com   \n",
      "14  66fe457006024c48cc3ca44d      John     Jones      john.jones@company.com   \n",
      "15  66fe457006024c48cc3ca44e       Bob     Davis       bob.davis@company.com   \n",
      "16  66fe457006024c48cc3ca44f     Grace  Williams  grace.williams@company.com   \n",
      "17  66fe457006024c48cc3ca450     Alice     Moore     alice.moore@company.com   \n",
      "\n",
      "            employeeID                department                  designation  \\\n",
      "0   EMP172793995132518  66fe298f1cf3c64a6475331d                ETL Developer   \n",
      "1   EMP172793995132590  66fe298f1cf3c64a64753329  Junior Full Stack Developer   \n",
      "2   EMP172793995132625  66fe298f1cf3c64a6475331d         Senior Data Engineer   \n",
      "3   EMP172793995132617  66fe298f1cf3c64a64753329         Full Stack Developer   \n",
      "4   EMP172793995132737  66fe298f1cf3c64a6475331d                Data Engineer   \n",
      "5   EMP172793995132750  66fe298f1cf3c64a6475331d         Senior Data Engineer   \n",
      "6   EMP172793995132776  66fe298f1cf3c64a6475332f      Junior Business Analyst   \n",
      "7   EMP172793995132834  66fe298f1cf3c64a64753329  Junior Full Stack Developer   \n",
      "8   EMP172793995132855  66fe298f1cf3c64a64753323    Machine Learning Engineer   \n",
      "9   EMP172793995132833  66fe298f1cf3c64a6475332f      Junior Business Analyst   \n",
      "10   EMP17279399513297  66fe298f1cf3c64a6475331d                Data Engineer   \n",
      "11  EMP172793995132927  66fe298f1cf3c64a6475331d                Data Engineer   \n",
      "12  EMP172793995132984  66fe298f1cf3c64a64753323        Junior Data Scientist   \n",
      "13  EMP172793995133039  66fe298f1cf3c64a6475332f        Management Consultant   \n",
      "14  EMP172793995133015  66fe298f1cf3c64a6475331d               Data Architect   \n",
      "15  EMP172793995133099  66fe298f1cf3c64a6475332f             Business Analyst   \n",
      "16  EMP172793995133113  66fe298f1cf3c64a64753329            Backend Developer   \n",
      "17  EMP172793995133120  66fe298f1cf3c64a64753323    Machine Learning Engineer   \n",
      "\n",
      "                                               skills  points  \n",
      "0   [' Python Programming', ' Natural Language Pro...     236  \n",
      "1                                                  []       0  \n",
      "2                                                  []       0  \n",
      "3                                                  []       0  \n",
      "4                                                  []       0  \n",
      "5                                                  []       0  \n",
      "6                                                  []       0  \n",
      "7                                                  []       0  \n",
      "8                                                  []       0  \n",
      "9   [' Business Analysis', ' Data Visualization', ...     255  \n",
      "10                                                 []       0  \n",
      "11                                                 []       0  \n",
      "12  [' Computer Programming', ' Data Analysis', ' ...     147  \n",
      "13                                                 []       0  \n",
      "14                                                 []       0  \n",
      "15                                                 []       0  \n",
      "16  [' Database Design', ' Databases', ' HTML and ...     149  \n",
      "17  [' Machine Learning', ' Feature Engineering', ...     324  \n"
     ]
    }
   ],
   "source": [
    "def clean_and_parse_courses(course_list_str):\n",
    "    try:\n",
    "        # Remove ObjectId and datetime using regex, replace with simple strings\n",
    "        cleaned_str = re.sub(r\"ObjectId\\('([^']+)'\\)\", r'\"\\1\"', course_list_str)  # Replace ObjectId with string\n",
    "        cleaned_str = re.sub(r\"datetime\\.datetime\\(([^)]+)\\)\", r'\"\\1\"', cleaned_str)  # Replace datetime with string\n",
    "        \n",
    "        # Convert cleaned string into JSON compatible format\n",
    "        course_list = json.loads(cleaned_str.replace(\"'\", '\"'))  # Replace single quotes with double quotes for valid JSON\n",
    "        return course_list\n",
    "    except Exception as e:\n",
    "        print(f\"Error parsing course data: {e}\")\n",
    "        return None\n",
    "\n",
    "# Apply cleaning and parsing function to 'courses' column\n",
    "users_df['courses'] = users_df['courses'].apply(clean_and_parse_courses)\n",
    "\n",
    "# Explode the 'courses' column to split list of dicts into individual rows\n",
    "users_exploded_df = users_df.explode('courses')\n",
    "\n",
    "# Convert the exploded 'courses' dictionaries into separate columns\n",
    "courses_normalized_df = pd.json_normalize(users_exploded_df['courses'])\n",
    "\n",
    "# Drop the original 'courses' column and combine with normalized columns\n",
    "final_users_df = users_exploded_df.drop(columns=['courses']).join(courses_normalized_df)\n",
    "\n",
    "# Display final DataFrame\n",
    "print(final_users_df)"
   ]
  }
 ],
 "metadata": {
  "kernelspec": {
   "display_name": "Python 3",
   "language": "python",
   "name": "python3"
  },
  "language_info": {
   "codemirror_mode": {
    "name": "ipython",
    "version": 3
   },
   "file_extension": ".py",
   "mimetype": "text/x-python",
   "name": "python",
   "nbconvert_exporter": "python",
   "pygments_lexer": "ipython3",
   "version": "3.12.5"
  }
 },
 "nbformat": 4,
 "nbformat_minor": 2
}
