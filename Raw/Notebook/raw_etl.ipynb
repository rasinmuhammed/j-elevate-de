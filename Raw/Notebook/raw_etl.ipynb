{
 "cells": [
  {
   "cell_type": "markdown",
   "metadata": {},
   "source": [
    "Extracting Raw Data from the Database"
   ]
  },
  {
   "cell_type": "code",
   "execution_count": 33,
   "metadata": {},
   "outputs": [],
   "source": [
    "import pymongo\n",
    "import pandas as pd\n",
    "\n",
    "# Establish MongoDB connection\n",
    "client = pymongo.MongoClient(\"mongodb://localhost:27017/\")\n",
    "db = client[\"j-elevate\"]  # Replace with your database name\n",
    "\n",
    "# Extract data from different collections\n",
    "users_collection = db[\"users\"] \n",
    "courses_collection = db[\"courses\"]\n",
    "skills_collection = db[\"skills\"]\n",
    "departments_collection = db[\"departments\"]\n",
    "certifications_collection = db[\"certifications\"]\n",
    "\n",
    "# Convert collections to DataFrames\n",
    "users_df = pd.DataFrame(list(users_collection.find()))\n",
    "courses_df = pd.DataFrame(list(courses_collection.find()))\n",
    "skills_df = pd.DataFrame(list(skills_collection.find()))\n",
    "departments_df = pd.DataFrame(list(departments_collection.find()))\n",
    "certifications_df = pd.DataFrame(list(certifications_collection.find()))\n",
    "\n",
    "\n"
   ]
  },
  {
   "cell_type": "markdown",
   "metadata": {},
   "source": [
    "Dropping unwanted rows and columns"
   ]
  },
  {
   "cell_type": "markdown",
   "metadata": {},
   "source": [
    "1.Users"
   ]
  },
  {
   "cell_type": "code",
   "execution_count": 34,
   "metadata": {},
   "outputs": [
    {
     "name": "stdout",
     "output_type": "stream",
     "text": [
      "                         _id firstName  lastName                       email  \\\n",
      "1   66fe457006024c48cc3ca43f    Hannah     Jones    hannah.jones@company.com   \n",
      "2   66fe457006024c48cc3ca440     Grace     Brown     grace.brown@company.com   \n",
      "3   66fe457006024c48cc3ca441     David   Johnson   david.johnson@company.com   \n",
      "4   66fe457006024c48cc3ca442    Hannah    Miller   hannah.miller@company.com   \n",
      "5   66fe457006024c48cc3ca443   Charlie    Taylor  charlie.taylor@company.com   \n",
      "6   66fe457006024c48cc3ca444      Jane     Jones      jane.jones@company.com   \n",
      "7   66fe457006024c48cc3ca445     Alice   Johnson   alice.johnson@company.com   \n",
      "8   66fe457006024c48cc3ca446      Jane    Taylor     jane.taylor@company.com   \n",
      "9   66fe457006024c48cc3ca447      Jane   Johnson    jane.johnson@company.com   \n",
      "10  66fe457006024c48cc3ca448     Grace    Miller    grace.miller@company.com   \n",
      "11  66fe457006024c48cc3ca449    Hannah    Thomas   hannah.thomas@company.com   \n",
      "12  66fe457006024c48cc3ca44a       Bob  Williams    bob.williams@company.com   \n",
      "13  66fe457006024c48cc3ca44b    Hannah    Taylor   hannah.taylor@company.com   \n",
      "14  66fe457006024c48cc3ca44c   Charlie    Wilson  charlie.wilson@company.com   \n",
      "15  66fe457006024c48cc3ca44d      John     Jones      john.jones@company.com   \n",
      "16  66fe457006024c48cc3ca44e       Bob     Davis       bob.davis@company.com   \n",
      "17  66fe457006024c48cc3ca44f     Grace  Williams  grace.williams@company.com   \n",
      "18  66fe457006024c48cc3ca450     Alice     Moore     alice.moore@company.com   \n",
      "\n",
      "            employeeID                department                  designation  \\\n",
      "1   EMP172793995132518  66fe298f1cf3c64a6475331d                ETL Developer   \n",
      "2   EMP172793995132590  66fe298f1cf3c64a64753329  Junior Full Stack Developer   \n",
      "3   EMP172793995132625  66fe298f1cf3c64a6475331d         Senior Data Engineer   \n",
      "4   EMP172793995132617  66fe298f1cf3c64a64753329         Full Stack Developer   \n",
      "5   EMP172793995132737  66fe298f1cf3c64a6475331d                Data Engineer   \n",
      "6   EMP172793995132750  66fe298f1cf3c64a6475331d         Senior Data Engineer   \n",
      "7   EMP172793995132776  66fe298f1cf3c64a6475332f      Junior Business Analyst   \n",
      "8   EMP172793995132834  66fe298f1cf3c64a64753329  Junior Full Stack Developer   \n",
      "9   EMP172793995132855  66fe298f1cf3c64a64753323    Machine Learning Engineer   \n",
      "10  EMP172793995132833  66fe298f1cf3c64a6475332f      Junior Business Analyst   \n",
      "11   EMP17279399513297  66fe298f1cf3c64a6475331d                Data Engineer   \n",
      "12  EMP172793995132927  66fe298f1cf3c64a6475331d                Data Engineer   \n",
      "13  EMP172793995132984  66fe298f1cf3c64a64753323        Junior Data Scientist   \n",
      "14  EMP172793995133039  66fe298f1cf3c64a6475332f        Management Consultant   \n",
      "15  EMP172793995133015  66fe298f1cf3c64a6475331d               Data Architect   \n",
      "16  EMP172793995133099  66fe298f1cf3c64a6475332f             Business Analyst   \n",
      "17  EMP172793995133113  66fe298f1cf3c64a64753329            Backend Developer   \n",
      "18  EMP172793995133120  66fe298f1cf3c64a64753323    Machine Learning Engineer   \n",
      "\n",
      "                                               skills  points  \\\n",
      "1   [ Python Programming,  Natural Language Proces...     236   \n",
      "2                                                  []       0   \n",
      "3                                                  []       0   \n",
      "4                                                  []       0   \n",
      "5                                                  []       0   \n",
      "6                                                  []       0   \n",
      "7                                                  []       0   \n",
      "8                                                  []       0   \n",
      "9                                                  []       0   \n",
      "10  [ Business Analysis,  Data Visualization,  Bus...     255   \n",
      "11                                                 []       0   \n",
      "12                                                 []       0   \n",
      "13  [ Computer Programming,  Data Analysis,  Pytho...     147   \n",
      "14                                                 []       0   \n",
      "15                                                 []       0   \n",
      "16                                                 []       0   \n",
      "17  [ Database Design,  Databases,  HTML and CSS, ...     149   \n",
      "18  [ Machine Learning,  Feature Engineering,  Gen...     324   \n",
      "\n",
      "                                              courses  \n",
      "1   [{'courseId': 66fe20076f4453256b07a954, 'type'...  \n",
      "2                                                  []  \n",
      "3                                                  []  \n",
      "4                                                  []  \n",
      "5                                                  []  \n",
      "6                                                  []  \n",
      "7                                                  []  \n",
      "8                                                  []  \n",
      "9                                                  []  \n",
      "10  [{'courseId': 66fe20076f4453256b07a956, 'type'...  \n",
      "11                                                 []  \n",
      "12                                                 []  \n",
      "13  [{'courseId': 66fe20076f4453256b07a98e, 'type'...  \n",
      "14                                                 []  \n",
      "15                                                 []  \n",
      "16                                                 []  \n",
      "17  [{'courseId': 66fe20086f4453256b07ac4e, 'type'...  \n",
      "18  [{'courseId': 66fe20076f4453256b07a95a, 'type'...  \n"
     ]
    }
   ],
   "source": [
    "\n",
    "users_df = users_df[users_df['role'] != 'admin']\n",
    "users_df = users_df.drop(columns=['password','role','__v','createdAt','updatedAt'])\n",
    "print(users_df)"
   ]
  },
  {
   "cell_type": "markdown",
   "metadata": {},
   "source": [
    "2.Courses"
   ]
  },
  {
   "cell_type": "code",
   "execution_count": 35,
   "metadata": {},
   "outputs": [],
   "source": [
    "courses_df = courses_df.drop(columns=['__v','createdAt','updatedAt'])\n"
   ]
  },
  {
   "cell_type": "markdown",
   "metadata": {},
   "source": [
    "3.Departments"
   ]
  },
  {
   "cell_type": "code",
   "execution_count": 36,
   "metadata": {},
   "outputs": [],
   "source": [
    "departments_df = departments_df.drop(columns=['__v','createdAt'])"
   ]
  },
  {
   "cell_type": "markdown",
   "metadata": {},
   "source": [
    "4.Skills"
   ]
  },
  {
   "cell_type": "code",
   "execution_count": 37,
   "metadata": {},
   "outputs": [],
   "source": [
    "\n",
    "skills_df = skills_df.drop(columns=['__v','createdAt','updatedAt'])"
   ]
  },
  {
   "cell_type": "markdown",
   "metadata": {},
   "source": [
    "5.Certifications"
   ]
  },
  {
   "cell_type": "code",
   "execution_count": 38,
   "metadata": {},
   "outputs": [
    {
     "name": "stdout",
     "output_type": "stream",
     "text": [
      "                        _id                    userId  \\\n",
      "0  6703aaf49d16d65ad2b77f0c  66fe457006024c48cc3ca43f   \n",
      "1  6703ab0e9d16d65ad2b77f12  66fe457006024c48cc3ca43f   \n",
      "2  6703cf83f11c8f97963ac8b5  66fe457006024c48cc3ca43f   \n",
      "3  6704a8a7182e42f518328c77  66fe457006024c48cc3ca448   \n",
      "4  6704a8aa182e42f518328c7e  66fe457006024c48cc3ca448   \n",
      "5  6704a8ad182e42f518328c84  66fe457006024c48cc3ca44f   \n",
      "6  6704a8ad182e42f518328c8c  66fe457006024c48cc3ca450   \n",
      "7  6704a8af182e42f518328c94  66fe457006024c48cc3ca450   \n",
      "\n",
      "                   courseId          completionDate               createdAt  \\\n",
      "0  66fe20076f4453256b07a954 2024-10-07 09:33:17.653 2024-10-07 09:33:40.810   \n",
      "1  66fe20076f4453256b07a95b 2024-10-07 09:33:31.204 2024-10-07 09:34:06.420   \n",
      "2  66fe20086f4453256b07aaed 2024-10-07 12:09:24.130 2024-10-07 12:09:39.940   \n",
      "3  66fe20076f4453256b07a956 2024-10-08 03:31:34.111 2024-10-08 03:36:07.318   \n",
      "4  66fe20086f4453256b07ac43 2024-10-08 03:30:45.777 2024-10-08 03:36:10.858   \n",
      "5  66fe20086f4453256b07ac7e 2024-10-08 03:35:44.079 2024-10-08 03:36:13.092   \n",
      "6  66fe20076f4453256b07a97e 2024-10-08 03:34:23.551 2024-10-08 03:36:13.971   \n",
      "7  66fe20076f4453256b07a965 2024-10-08 03:34:05.264 2024-10-08 03:36:15.034   \n",
      "\n",
      "                updatedAt  __v  isApproved  \n",
      "0 2024-10-07 09:33:40.811    0        True  \n",
      "1 2024-10-07 09:34:06.420    0       False  \n",
      "2 2024-10-07 12:09:39.941    0        True  \n",
      "3 2024-10-08 03:36:07.318    0        True  \n",
      "4 2024-10-08 03:36:10.858    0        True  \n",
      "5 2024-10-08 03:36:13.092    0        True  \n",
      "6 2024-10-08 03:36:13.971    0        True  \n",
      "7 2024-10-08 03:36:15.034    0        True  \n"
     ]
    }
   ],
   "source": [
    "print(certifications_df)\n",
    "certifications_df = certifications_df.drop(columns=['__v','createdAt','updatedAt'])"
   ]
  },
  {
   "cell_type": "code",
   "execution_count": 39,
   "metadata": {},
   "outputs": [],
   "source": [
    "# Save the raw files\n",
    "users_df.to_csv('../DATA_RAW/raw_users.csv', index=False)\n",
    "courses_df.to_csv('../DATA_RAW/raw_courses.csv', index=False)\n",
    "departments_df.to_csv('../DATA_RAW/raw_departments.csv', index=False)\n",
    "skills_df.to_csv('../DATA_RAW/raw_skills.csv', index=False)\n",
    "certifications_df.to_csv('../DATA_RAW/raw_certifications.csv', index=False)\n",
    "\n"
   ]
  }
 ],
 "metadata": {
  "kernelspec": {
   "display_name": "Python 3",
   "language": "python",
   "name": "python3"
  },
  "language_info": {
   "codemirror_mode": {
    "name": "ipython",
    "version": 3
   },
   "file_extension": ".py",
   "mimetype": "text/x-python",
   "name": "python",
   "nbconvert_exporter": "python",
   "pygments_lexer": "ipython3",
   "version": "3.12.5"
  }
 },
 "nbformat": 4,
 "nbformat_minor": 2
}
